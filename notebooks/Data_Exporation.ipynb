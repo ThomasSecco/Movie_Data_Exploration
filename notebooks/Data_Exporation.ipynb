{
 "cells": [
  {
   "cell_type": "code",
   "execution_count": null,
   "metadata": {},
   "outputs": [],
   "source": [
    "# Importing libraries\n",
    "import pandas as pd\n",
    "import matplotlib.pyplot as plt\n",
    "import seaborn as sns\n",
    "import numpy as np"
   ]
  },
  {
   "cell_type": "code",
   "execution_count": null,
   "metadata": {},
   "outputs": [],
   "source": [
    "# Load the dataset\n",
    "df = pd.read_csv('../data/movies.csv')"
   ]
  },
  {
   "cell_type": "code",
   "execution_count": null,
   "metadata": {},
   "outputs": [],
   "source": [
    "\n",
    "# Display basic information about the dataset\n",
    "df.info()\n",
    "df.head()\n",
    "\n",
    "# Data Cleaning and Preparation\n",
    "# Selecting important columns and handling missing values\n",
    "df = df[['title', 'genres', 'budget', 'revenue', 'vote_average', 'vote_count', 'release_date']]\n",
    "df.dropna(subset=['title', 'vote_average'], inplace=True)  # Removing rows without titles or vote averages\n",
    "df['revenue'].fillna(0, inplace=True)\n",
    "df['budget'].fillna(0, inplace=True)\n",
    "df['release_date'] = pd.to_datetime(df['release_date'], errors='coerce')\n",
    "df['release_year'] = df['release_date'].dt.year  # Extracting release year\n"
   ]
  },
  {
   "cell_type": "code",
   "execution_count": null,
   "metadata": {},
   "outputs": [],
   "source": [
    "\n",
    "# Checking cleaned data\n",
    "df.info()\n",
    "df.head()\n"
   ]
  },
  {
   "cell_type": "code",
   "execution_count": null,
   "metadata": {},
   "outputs": [],
   "source": [
    "\n",
    "# Genre Analysis - Visualize the distribution of movie genres\n",
    "# Split genres and count occurrences\n",
    "genres = df['genres'].dropna().str.get_dummies(sep='|').sum().sort_values(ascending=False)\n",
    "plt.figure(figsize=(10, 6))\n",
    "sns.barplot(x=genres.values, y=genres.index)\n",
    "plt.title('Distribution of Movie Genres')\n",
    "plt.xlabel('Number of Movies')\n",
    "plt.ylabel('Genre')\n",
    "plt.show()\n"
   ]
  },
  {
   "cell_type": "code",
   "execution_count": null,
   "metadata": {},
   "outputs": [],
   "source": [
    "\n",
    "# Revenue vs Rating Analysis - Scatter plot of revenue vs rating\n",
    "plt.figure(figsize=(10, 6))\n",
    "sns.scatterplot(x='vote_average', y='revenue', data=df, alpha=0.5)\n",
    "plt.title('Revenue vs. Rating')\n",
    "plt.xlabel('Average Rating')\n",
    "plt.ylabel('Revenue')\n",
    "plt.show()\n"
   ]
  },
  {
   "cell_type": "code",
   "execution_count": null,
   "metadata": {},
   "outputs": [],
   "source": [
    "\n",
    "# Top Directors by Revenue\n",
    "# Assuming 'director' column is available, group by director and sum revenue\n",
    "if 'director' in df.columns:\n",
    "    top_directors = df.groupby('director')['revenue'].sum().sort_values(ascending=False).head(10)\n",
    "    plt.figure(figsize=(10, 6))\n",
    "    sns.barplot(x=top_directors.values, y=top_directors.index)\n",
    "    plt.title('Top 10 Directors by Revenue')\n",
    "    plt.xlabel('Revenue')\n",
    "    plt.ylabel('Director')\n",
    "    plt.show()\n",
    "else:\n",
    "    print(\"No 'director' column available in the dataset to analyze.\")\n",
    "\n",
    "# Summary of Findings\n",
    "# Print a summary of key statistics or any interesting insights from the data\n",
    "summary = {\n",
    "    'Average Budget': np.mean(df['budget']),\n",
    "    'Average Revenue': np.mean(df['revenue']),\n",
    "    'Average Rating': np.mean(df['vote_average']),\n",
    "    'Top Genre': genres.idxmax()\n",
    "}\n",
    "summary"
   ]
  }
 ],
 "metadata": {
  "language_info": {
   "name": "python"
  }
 },
 "nbformat": 4,
 "nbformat_minor": 2
}
